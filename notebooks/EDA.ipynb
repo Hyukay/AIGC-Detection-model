{
 "cells": [
  {
   "cell_type": "code",
   "execution_count": null,
   "metadata": {},
   "outputs": [],
   "source": [
    "# EDA.ipynb\n",
    "\n",
    "## Exploratory Data Analysis\n",
    "\n",
    "1. **Load and Display Images**\n",
    "   - Display a few sample images from the `real` and `fake` directories to understand their visual characteristics.\n",
    "\n",
    "2. **Class Distribution**\n",
    "   - Count the number of images in each class to check for balance.\n",
    "\n",
    "3. **Image Dimensions**\n",
    "   - Verify that the images are of expected dimensions (512x512) for the AI-generated ones.\n",
    "\n",
    "4. **Data Augmentation Examples**\n",
    "   - Apply augmentation techniques to a few images and display them to ensure they are generating useful variations.\n"
   ]
  }
 ],
 "metadata": {
  "language_info": {
   "name": "python"
  }
 },
 "nbformat": 4,
 "nbformat_minor": 2
}
